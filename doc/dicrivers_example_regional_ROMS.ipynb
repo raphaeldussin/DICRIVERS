{
 "cells": [
  {
   "cell_type": "markdown",
   "metadata": {},
   "source": [
    "# Tutorial: creating river concentrations file for regional domain in ROMS"
   ]
  },
  {
   "cell_type": "markdown",
   "metadata": {},
   "source": [
    "The purpose of this package is to create gridded files of river biogeochemical properties. Such properties are measured locally or inferred at the mouth of the river and provided in spreadsheet-style databases. To force ocean model, we need gridded files of BGC concentrations, that can be multiplied by river and coastal runoff to create the riverine flux into the ocean. DICRIVERS will find the closest gridpoint to the true river mouth geographical location, then create a \"plume\"\n",
    "(i.e. a binary mask) on which to apply the concentration of each given river."
   ]
  },
  {
   "cell_type": "code",
   "execution_count": 1,
   "metadata": {},
   "outputs": [],
   "source": [
    "import xarray as xr\n",
    "import pandas as pd\n",
    "from dicrivers import make_bgc_river_input\n",
    "import cartopy.crs as ccrs\n",
    "import matplotlib.pyplot as plt"
   ]
  },
  {
   "cell_type": "code",
   "execution_count": 2,
   "metadata": {},
   "outputs": [],
   "source": [
    "%matplotlib inline"
   ]
  },
  {
   "cell_type": "markdown",
   "metadata": {},
   "source": [
    "Open the included example dataframe of the 20 largest rivers:"
   ]
  },
  {
   "cell_type": "code",
   "execution_count": 3,
   "metadata": {},
   "outputs": [],
   "source": [
    "river_df = pd.read_csv('../dicrivers/test/data/20major_rivers.csv')"
   ]
  },
  {
   "cell_type": "code",
   "execution_count": 4,
   "metadata": {},
   "outputs": [
    {
     "data": {
      "text/html": [
       "<div>\n",
       "<style scoped>\n",
       "    .dataframe tbody tr th:only-of-type {\n",
       "        vertical-align: middle;\n",
       "    }\n",
       "\n",
       "    .dataframe tbody tr th {\n",
       "        vertical-align: top;\n",
       "    }\n",
       "\n",
       "    .dataframe thead th {\n",
       "        text-align: right;\n",
       "    }\n",
       "</style>\n",
       "<table border=\"1\" class=\"dataframe\">\n",
       "  <thead>\n",
       "    <tr style=\"text-align: right;\">\n",
       "      <th></th>\n",
       "      <th>basinid</th>\n",
       "      <th>basinname</th>\n",
       "      <th>mouth_lon</th>\n",
       "      <th>mouth_lat</th>\n",
       "      <th>rspread</th>\n",
       "      <th>testvar</th>\n",
       "    </tr>\n",
       "  </thead>\n",
       "  <tbody>\n",
       "    <tr>\n",
       "      <th>0</th>\n",
       "      <td>1</td>\n",
       "      <td>Amazon</td>\n",
       "      <td>-51.75</td>\n",
       "      <td>-1.25</td>\n",
       "      <td>5</td>\n",
       "      <td>99</td>\n",
       "    </tr>\n",
       "    <tr>\n",
       "      <th>1</th>\n",
       "      <td>2</td>\n",
       "      <td>Nile</td>\n",
       "      <td>31.25</td>\n",
       "      <td>31.25</td>\n",
       "      <td>5</td>\n",
       "      <td>98</td>\n",
       "    </tr>\n",
       "    <tr>\n",
       "      <th>2</th>\n",
       "      <td>3</td>\n",
       "      <td>Zaire</td>\n",
       "      <td>12.75</td>\n",
       "      <td>-5.75</td>\n",
       "      <td>5</td>\n",
       "      <td>97</td>\n",
       "    </tr>\n",
       "    <tr>\n",
       "      <th>3</th>\n",
       "      <td>4</td>\n",
       "      <td>Mississippi</td>\n",
       "      <td>-90.25</td>\n",
       "      <td>29.75</td>\n",
       "      <td>5</td>\n",
       "      <td>96</td>\n",
       "    </tr>\n",
       "    <tr>\n",
       "      <th>4</th>\n",
       "      <td>5</td>\n",
       "      <td>Ob</td>\n",
       "      <td>69.25</td>\n",
       "      <td>66.75</td>\n",
       "      <td>5</td>\n",
       "      <td>95</td>\n",
       "    </tr>\n",
       "    <tr>\n",
       "      <th>5</th>\n",
       "      <td>6</td>\n",
       "      <td>Parana</td>\n",
       "      <td>-58.75</td>\n",
       "      <td>-34.25</td>\n",
       "      <td>5</td>\n",
       "      <td>94</td>\n",
       "    </tr>\n",
       "    <tr>\n",
       "      <th>6</th>\n",
       "      <td>7</td>\n",
       "      <td>Yenisei</td>\n",
       "      <td>82.25</td>\n",
       "      <td>71.25</td>\n",
       "      <td>5</td>\n",
       "      <td>93</td>\n",
       "    </tr>\n",
       "    <tr>\n",
       "      <th>7</th>\n",
       "      <td>8</td>\n",
       "      <td>Lena</td>\n",
       "      <td>127.25</td>\n",
       "      <td>73.25</td>\n",
       "      <td>5</td>\n",
       "      <td>92</td>\n",
       "    </tr>\n",
       "    <tr>\n",
       "      <th>8</th>\n",
       "      <td>9</td>\n",
       "      <td>Niger</td>\n",
       "      <td>6.75</td>\n",
       "      <td>4.75</td>\n",
       "      <td>5</td>\n",
       "      <td>91</td>\n",
       "    </tr>\n",
       "    <tr>\n",
       "      <th>9</th>\n",
       "      <td>10</td>\n",
       "      <td>Tamanrasett</td>\n",
       "      <td>-16.25</td>\n",
       "      <td>20.25</td>\n",
       "      <td>5</td>\n",
       "      <td>90</td>\n",
       "    </tr>\n",
       "    <tr>\n",
       "      <th>10</th>\n",
       "      <td>11</td>\n",
       "      <td>Chang Jiang</td>\n",
       "      <td>121.75</td>\n",
       "      <td>31.25</td>\n",
       "      <td>5</td>\n",
       "      <td>89</td>\n",
       "    </tr>\n",
       "    <tr>\n",
       "      <th>11</th>\n",
       "      <td>12</td>\n",
       "      <td>Amur</td>\n",
       "      <td>140.75</td>\n",
       "      <td>53.25</td>\n",
       "      <td>5</td>\n",
       "      <td>88</td>\n",
       "    </tr>\n",
       "    <tr>\n",
       "      <th>12</th>\n",
       "      <td>13</td>\n",
       "      <td>Mackenzie</td>\n",
       "      <td>-134.75</td>\n",
       "      <td>69.25</td>\n",
       "      <td>5</td>\n",
       "      <td>87</td>\n",
       "    </tr>\n",
       "    <tr>\n",
       "      <th>13</th>\n",
       "      <td>14</td>\n",
       "      <td>Ganges</td>\n",
       "      <td>90.75</td>\n",
       "      <td>22.75</td>\n",
       "      <td>5</td>\n",
       "      <td>86</td>\n",
       "    </tr>\n",
       "    <tr>\n",
       "      <th>14</th>\n",
       "      <td>15</td>\n",
       "      <td>CHARI BOUSSO/ Lake Chad</td>\n",
       "      <td>14.25</td>\n",
       "      <td>12.25</td>\n",
       "      <td>5</td>\n",
       "      <td>85</td>\n",
       "    </tr>\n",
       "    <tr>\n",
       "      <th>15</th>\n",
       "      <td>16</td>\n",
       "      <td>Volga</td>\n",
       "      <td>48.25</td>\n",
       "      <td>46.25</td>\n",
       "      <td>5</td>\n",
       "      <td>84</td>\n",
       "    </tr>\n",
       "    <tr>\n",
       "      <th>16</th>\n",
       "      <td>17</td>\n",
       "      <td>Zambezi</td>\n",
       "      <td>36.25</td>\n",
       "      <td>-18.75</td>\n",
       "      <td>5</td>\n",
       "      <td>83</td>\n",
       "    </tr>\n",
       "    <tr>\n",
       "      <th>17</th>\n",
       "      <td>18</td>\n",
       "      <td>GreatArtesian/CopperCR</td>\n",
       "      <td>136.75</td>\n",
       "      <td>-28.75</td>\n",
       "      <td>5</td>\n",
       "      <td>82</td>\n",
       "    </tr>\n",
       "    <tr>\n",
       "      <th>18</th>\n",
       "      <td>19</td>\n",
       "      <td>Tarim</td>\n",
       "      <td>86.25</td>\n",
       "      <td>41.25</td>\n",
       "      <td>5</td>\n",
       "      <td>81</td>\n",
       "    </tr>\n",
       "    <tr>\n",
       "      <th>19</th>\n",
       "      <td>20</td>\n",
       "      <td>Indus</td>\n",
       "      <td>67.75</td>\n",
       "      <td>24.25</td>\n",
       "      <td>5</td>\n",
       "      <td>80</td>\n",
       "    </tr>\n",
       "  </tbody>\n",
       "</table>\n",
       "</div>"
      ],
      "text/plain": [
       "    basinid                basinname  mouth_lon  mouth_lat  rspread  testvar\n",
       "0         1                   Amazon     -51.75      -1.25        5       99\n",
       "1         2                     Nile      31.25      31.25        5       98\n",
       "2         3                    Zaire      12.75      -5.75        5       97\n",
       "3         4              Mississippi     -90.25      29.75        5       96\n",
       "4         5                       Ob      69.25      66.75        5       95\n",
       "5         6                   Parana     -58.75     -34.25        5       94\n",
       "6         7                  Yenisei      82.25      71.25        5       93\n",
       "7         8                     Lena     127.25      73.25        5       92\n",
       "8         9                    Niger       6.75       4.75        5       91\n",
       "9        10              Tamanrasett     -16.25      20.25        5       90\n",
       "10       11              Chang Jiang     121.75      31.25        5       89\n",
       "11       12                     Amur     140.75      53.25        5       88\n",
       "12       13                Mackenzie    -134.75      69.25        5       87\n",
       "13       14                   Ganges      90.75      22.75        5       86\n",
       "14       15  CHARI BOUSSO/ Lake Chad      14.25      12.25        5       85\n",
       "15       16                    Volga      48.25      46.25        5       84\n",
       "16       17                  Zambezi      36.25     -18.75        5       83\n",
       "17       18   GreatArtesian/CopperCR     136.75     -28.75        5       82\n",
       "18       19                    Tarim      86.25      41.25        5       81\n",
       "19       20                    Indus      67.75      24.25        5       80"
      ]
     },
     "execution_count": 4,
     "metadata": {},
     "output_type": "execute_result"
    }
   ],
   "source": [
    "river_df"
   ]
  },
  {
   "cell_type": "markdown",
   "metadata": {},
   "source": [
    "The example dataframe contains the longitude and latitude of the river mouth, the desired radius of spreading for each river plume and values for the various biogeochemical properties. Here the radius is of 5 grid points in each direction from the river mouth. This can be adjusted on an individual basis. As a rule of thumb, the higher the horizontal resolution the larger the spreading for a plume of similar extension.\n",
    "\n",
    "The pandas framework allows you to add variables, select and sort entries very easily. Next we need the grid onto which to generate the plumes:"
   ]
  },
  {
   "cell_type": "code",
   "execution_count": 5,
   "metadata": {},
   "outputs": [],
   "source": [
    "roms_regional_grid = xr.open_dataset('../dicrivers/test/data/regional_ROMS_NWA_grid.nc')"
   ]
  },
  {
   "cell_type": "code",
   "execution_count": 6,
   "metadata": {},
   "outputs": [
    {
     "data": {
      "text/plain": [
       "<xarray.Dataset>\n",
       "Dimensions:   (eta_rho: 362, xi_rho: 722)\n",
       "Dimensions without coordinates: eta_rho, xi_rho\n",
       "Data variables:\n",
       "    lat_rho   (eta_rho, xi_rho) float64 ...\n",
       "    lon_rho   (eta_rho, xi_rho) float64 ...\n",
       "    mask_rho  (eta_rho, xi_rho) float64 ...\n",
       "Attributes:\n",
       "    Description:  ROMS grid\n",
       "    Author:       pyroms.grid.write_grd\n",
       "    Created:      2013-04-01T09:31:11.293024\n",
       "    type:         ROMS grid file\n",
       "    history:      Wed Jun  5 14:35:38 2019: ncks -F -v lon_rho,lat_rho,mask_r...\n",
       "    NCO:          netCDF Operators version 4.7.7 (Homepage = http://nco.sf.ne..."
      ]
     },
     "execution_count": 6,
     "metadata": {},
     "output_type": "execute_result"
    }
   ],
   "source": [
    "roms_regional_grid"
   ]
  },
  {
   "cell_type": "markdown",
   "metadata": {},
   "source": [
    "The xarray dataset contains the longitude, latitude of tracer points (look up Arakawa staggered grid for more details) and\n",
    "a land sea mask. The land sea mask is used to constrain the various plumes not to contaminate adjacent estuaries."
   ]
  },
  {
   "cell_type": "code",
   "execution_count": 7,
   "metadata": {},
   "outputs": [
    {
     "data": {
      "text/plain": [
       "<matplotlib.collections.QuadMesh at 0xd1a79f198>"
      ]
     },
     "execution_count": 7,
     "metadata": {},
     "output_type": "execute_result"
    },
    {
     "data": {
      "image/png": "[encoded data removed]",
      "text/plain": [
       "<Figure size 1152x576 with 2 Axes>"
      ]
     },
     "metadata": {
      "needs_background": "light"
     },
     "output_type": "display_data"
    }
   ],
   "source": [
    "fig = plt.figure(figsize=[16,8])\n",
    "ax = plt.axes(projection=ccrs.PlateCarree())\n",
    "landseamask = roms_regional_grid['mask_rho'].assign_coords(lon=roms_regional_grid['lon_rho'], \n",
    "                                                           lat=roms_regional_grid['lat_rho'])\n",
    "landseamask.plot(ax=ax, x='lon', y='lat', \n",
    "                 transform=ccrs.PlateCarree())"
   ]
  },
  {
   "cell_type": "markdown",
   "metadata": {},
   "source": [
    "Let's make the Mississippi plume bigger so we can see it. You probably don't have to make it so big, here just for demo."
   ]
  },
  {
   "cell_type": "code",
   "execution_count": 8,
   "metadata": {},
   "outputs": [],
   "source": [
    "river_df.loc[river_df.basinname == 'Mississippi', 'rspread'] = 50"
   ]
  },
  {
   "cell_type": "code",
   "execution_count": 9,
   "metadata": {},
   "outputs": [
    {
     "data": {
      "text/html": [
       "<div>\n",
       "<style scoped>\n",
       "    .dataframe tbody tr th:only-of-type {\n",
       "        vertical-align: middle;\n",
       "    }\n",
       "\n",
       "    .dataframe tbody tr th {\n",
       "        vertical-align: top;\n",
       "    }\n",
       "\n",
       "    .dataframe thead th {\n",
       "        text-align: right;\n",
       "    }\n",
       "</style>\n",
       "<table border=\"1\" class=\"dataframe\">\n",
       "  <thead>\n",
       "    <tr style=\"text-align: right;\">\n",
       "      <th></th>\n",
       "      <th>basinid</th>\n",
       "      <th>basinname</th>\n",
       "      <th>mouth_lon</th>\n",
       "      <th>mouth_lat</th>\n",
       "      <th>rspread</th>\n",
       "      <th>testvar</th>\n",
       "    </tr>\n",
       "  </thead>\n",
       "  <tbody>\n",
       "    <tr>\n",
       "      <th>0</th>\n",
       "      <td>1</td>\n",
       "      <td>Amazon</td>\n",
       "      <td>-51.75</td>\n",
       "      <td>-1.25</td>\n",
       "      <td>5</td>\n",
       "      <td>99</td>\n",
       "    </tr>\n",
       "    <tr>\n",
       "      <th>1</th>\n",
       "      <td>2</td>\n",
       "      <td>Nile</td>\n",
       "      <td>31.25</td>\n",
       "      <td>31.25</td>\n",
       "      <td>5</td>\n",
       "      <td>98</td>\n",
       "    </tr>\n",
       "    <tr>\n",
       "      <th>2</th>\n",
       "      <td>3</td>\n",
       "      <td>Zaire</td>\n",
       "      <td>12.75</td>\n",
       "      <td>-5.75</td>\n",
       "      <td>5</td>\n",
       "      <td>97</td>\n",
       "    </tr>\n",
       "    <tr>\n",
       "      <th>3</th>\n",
       "      <td>4</td>\n",
       "      <td>Mississippi</td>\n",
       "      <td>-90.25</td>\n",
       "      <td>29.75</td>\n",
       "      <td>50</td>\n",
       "      <td>96</td>\n",
       "    </tr>\n",
       "    <tr>\n",
       "      <th>4</th>\n",
       "      <td>5</td>\n",
       "      <td>Ob</td>\n",
       "      <td>69.25</td>\n",
       "      <td>66.75</td>\n",
       "      <td>5</td>\n",
       "      <td>95</td>\n",
       "    </tr>\n",
       "    <tr>\n",
       "      <th>5</th>\n",
       "      <td>6</td>\n",
       "      <td>Parana</td>\n",
       "      <td>-58.75</td>\n",
       "      <td>-34.25</td>\n",
       "      <td>5</td>\n",
       "      <td>94</td>\n",
       "    </tr>\n",
       "    <tr>\n",
       "      <th>6</th>\n",
       "      <td>7</td>\n",
       "      <td>Yenisei</td>\n",
       "      <td>82.25</td>\n",
       "      <td>71.25</td>\n",
       "      <td>5</td>\n",
       "      <td>93</td>\n",
       "    </tr>\n",
       "    <tr>\n",
       "      <th>7</th>\n",
       "      <td>8</td>\n",
       "      <td>Lena</td>\n",
       "      <td>127.25</td>\n",
       "      <td>73.25</td>\n",
       "      <td>5</td>\n",
       "      <td>92</td>\n",
       "    </tr>\n",
       "    <tr>\n",
       "      <th>8</th>\n",
       "      <td>9</td>\n",
       "      <td>Niger</td>\n",
       "      <td>6.75</td>\n",
       "      <td>4.75</td>\n",
       "      <td>5</td>\n",
       "      <td>91</td>\n",
       "    </tr>\n",
       "    <tr>\n",
       "      <th>9</th>\n",
       "      <td>10</td>\n",
       "      <td>Tamanrasett</td>\n",
       "      <td>-16.25</td>\n",
       "      <td>20.25</td>\n",
       "      <td>5</td>\n",
       "      <td>90</td>\n",
       "    </tr>\n",
       "    <tr>\n",
       "      <th>10</th>\n",
       "      <td>11</td>\n",
       "      <td>Chang Jiang</td>\n",
       "      <td>121.75</td>\n",
       "      <td>31.25</td>\n",
       "      <td>5</td>\n",
       "      <td>89</td>\n",
       "    </tr>\n",
       "    <tr>\n",
       "      <th>11</th>\n",
       "      <td>12</td>\n",
       "      <td>Amur</td>\n",
       "      <td>140.75</td>\n",
       "      <td>53.25</td>\n",
       "      <td>5</td>\n",
       "      <td>88</td>\n",
       "    </tr>\n",
       "    <tr>\n",
       "      <th>12</th>\n",
       "      <td>13</td>\n",
       "      <td>Mackenzie</td>\n",
       "      <td>-134.75</td>\n",
       "      <td>69.25</td>\n",
       "      <td>5</td>\n",
       "      <td>87</td>\n",
       "    </tr>\n",
       "    <tr>\n",
       "      <th>13</th>\n",
       "      <td>14</td>\n",
       "      <td>Ganges</td>\n",
       "      <td>90.75</td>\n",
       "      <td>22.75</td>\n",
       "      <td>5</td>\n",
       "      <td>86</td>\n",
       "    </tr>\n",
       "    <tr>\n",
       "      <th>14</th>\n",
       "      <td>15</td>\n",
       "      <td>CHARI BOUSSO/ Lake Chad</td>\n",
       "      <td>14.25</td>\n",
       "      <td>12.25</td>\n",
       "      <td>5</td>\n",
       "      <td>85</td>\n",
       "    </tr>\n",
       "    <tr>\n",
       "      <th>15</th>\n",
       "      <td>16</td>\n",
       "      <td>Volga</td>\n",
       "      <td>48.25</td>\n",
       "      <td>46.25</td>\n",
       "      <td>5</td>\n",
       "      <td>84</td>\n",
       "    </tr>\n",
       "    <tr>\n",
       "      <th>16</th>\n",
       "      <td>17</td>\n",
       "      <td>Zambezi</td>\n",
       "      <td>36.25</td>\n",
       "      <td>-18.75</td>\n",
       "      <td>5</td>\n",
       "      <td>83</td>\n",
       "    </tr>\n",
       "    <tr>\n",
       "      <th>17</th>\n",
       "      <td>18</td>\n",
       "      <td>GreatArtesian/CopperCR</td>\n",
       "      <td>136.75</td>\n",
       "      <td>-28.75</td>\n",
       "      <td>5</td>\n",
       "      <td>82</td>\n",
       "    </tr>\n",
       "    <tr>\n",
       "      <th>18</th>\n",
       "      <td>19</td>\n",
       "      <td>Tarim</td>\n",
       "      <td>86.25</td>\n",
       "      <td>41.25</td>\n",
       "      <td>5</td>\n",
       "      <td>81</td>\n",
       "    </tr>\n",
       "    <tr>\n",
       "      <th>19</th>\n",
       "      <td>20</td>\n",
       "      <td>Indus</td>\n",
       "      <td>67.75</td>\n",
       "      <td>24.25</td>\n",
       "      <td>5</td>\n",
       "      <td>80</td>\n",
       "    </tr>\n",
       "  </tbody>\n",
       "</table>\n",
       "</div>"
      ],
      "text/plain": [
       "    basinid                basinname  mouth_lon  mouth_lat  rspread  testvar\n",
       "0         1                   Amazon     -51.75      -1.25        5       99\n",
       "1         2                     Nile      31.25      31.25        5       98\n",
       "2         3                    Zaire      12.75      -5.75        5       97\n",
       "3         4              Mississippi     -90.25      29.75       50       96\n",
       "4         5                       Ob      69.25      66.75        5       95\n",
       "5         6                   Parana     -58.75     -34.25        5       94\n",
       "6         7                  Yenisei      82.25      71.25        5       93\n",
       "7         8                     Lena     127.25      73.25        5       92\n",
       "8         9                    Niger       6.75       4.75        5       91\n",
       "9        10              Tamanrasett     -16.25      20.25        5       90\n",
       "10       11              Chang Jiang     121.75      31.25        5       89\n",
       "11       12                     Amur     140.75      53.25        5       88\n",
       "12       13                Mackenzie    -134.75      69.25        5       87\n",
       "13       14                   Ganges      90.75      22.75        5       86\n",
       "14       15  CHARI BOUSSO/ Lake Chad      14.25      12.25        5       85\n",
       "15       16                    Volga      48.25      46.25        5       84\n",
       "16       17                  Zambezi      36.25     -18.75        5       83\n",
       "17       18   GreatArtesian/CopperCR     136.75     -28.75        5       82\n",
       "18       19                    Tarim      86.25      41.25        5       81\n",
       "19       20                    Indus      67.75      24.25        5       80"
      ]
     },
     "execution_count": 9,
     "metadata": {},
     "output_type": "execute_result"
    }
   ],
   "source": [
    "river_df"
   ]
  },
  {
   "cell_type": "markdown",
   "metadata": {},
   "source": [
    "To generate the concentration arrays, we use the **make_bgc_river_input** function. The arguments are the river dataframe, the list of variables we want, lon/lat/mask of the ocean grid. Optional parameters control the *method* used to merge the plumes (default='average'), the proximity range *prox* to apply (default=200 km) and the max number of iterations allowed *nitermax* for the plume spreading algo (default=1000)."
   ]
  },
  {
   "cell_type": "code",
   "execution_count": 10,
   "metadata": {},
   "outputs": [
    {
     "name": "stdout",
     "output_type": "stream",
     "text": [
      "river mouth at (lon,lat) = (-51.750000,-1.250000) \n",
      "is too far from the ocean and cannot not used.\n",
      "It can be out of the domain (regional case) or flowing into\n",
      "an unresolved lake or sea. If you know that river should be\n",
      "there, you may need to increase the proximity range (prox)\n",
      "river mouth at (lon,lat) = (31.250000,31.250000) \n",
      "is too far from the ocean and cannot not used.\n",
      "It can be out of the domain (regional case) or flowing into\n",
      "an unresolved lake or sea. If you know that river should be\n",
      "there, you may need to increase the proximity range (prox)\n",
      "river mouth at (lon,lat) = (12.750000,-5.750000) \n",
      "is too far from the ocean and cannot not used.\n",
      "It can be out of the domain (regional case) or flowing into\n",
      "an unresolved lake or sea. If you know that river should be\n",
      "there, you may need to increase the proximity range (prox)\n",
      "river mouth at (lon,lat) = (69.250000,66.750000) \n",
      "is too far from the ocean and cannot not used.\n",
      "It can be out of the domain (regional case) or flowing into\n",
      "an unresolved lake or sea. If you know that river should be\n",
      "there, you may need to increase the proximity range (prox)\n",
      "river mouth at (lon,lat) = (-58.750000,-34.250000) \n",
      "is too far from the ocean and cannot not used.\n",
      "It can be out of the domain (regional case) or flowing into\n",
      "an unresolved lake or sea. If you know that river should be\n",
      "there, you may need to increase the proximity range (prox)\n",
      "river mouth at (lon,lat) = (82.250000,71.250000) \n",
      "is too far from the ocean and cannot not used.\n",
      "It can be out of the domain (regional case) or flowing into\n",
      "an unresolved lake or sea. If you know that river should be\n",
      "there, you may need to increase the proximity range (prox)\n",
      "river mouth at (lon,lat) = (127.250000,73.250000) \n",
      "is too far from the ocean and cannot not used.\n",
      "It can be out of the domain (regional case) or flowing into\n",
      "an unresolved lake or sea. If you know that river should be\n",
      "there, you may need to increase the proximity range (prox)\n",
      "river mouth at (lon,lat) = (6.750000,4.750000) \n",
      "is too far from the ocean and cannot not used.\n",
      "It can be out of the domain (regional case) or flowing into\n",
      "an unresolved lake or sea. If you know that river should be\n",
      "there, you may need to increase the proximity range (prox)\n",
      "river mouth at (lon,lat) = (-16.250000,20.250000) \n",
      "is too far from the ocean and cannot not used.\n",
      "It can be out of the domain (regional case) or flowing into\n",
      "an unresolved lake or sea. If you know that river should be\n",
      "there, you may need to increase the proximity range (prox)\n",
      "river mouth at (lon,lat) = (121.750000,31.250000) \n",
      "is too far from the ocean and cannot not used.\n",
      "It can be out of the domain (regional case) or flowing into\n",
      "an unresolved lake or sea. If you know that river should be\n",
      "there, you may need to increase the proximity range (prox)\n",
      "river mouth at (lon,lat) = (140.750000,53.250000) \n",
      "is too far from the ocean and cannot not used.\n",
      "It can be out of the domain (regional case) or flowing into\n",
      "an unresolved lake or sea. If you know that river should be\n",
      "there, you may need to increase the proximity range (prox)\n",
      "river mouth at (lon,lat) = (-134.750000,69.250000) \n",
      "is too far from the ocean and cannot not used.\n",
      "It can be out of the domain (regional case) or flowing into\n",
      "an unresolved lake or sea. If you know that river should be\n",
      "there, you may need to increase the proximity range (prox)\n",
      "river mouth at (lon,lat) = (90.750000,22.750000) \n",
      "is too far from the ocean and cannot not used.\n",
      "It can be out of the domain (regional case) or flowing into\n",
      "an unresolved lake or sea. If you know that river should be\n",
      "there, you may need to increase the proximity range (prox)\n",
      "river mouth at (lon,lat) = (14.250000,12.250000) \n",
      "is too far from the ocean and cannot not used.\n",
      "It can be out of the domain (regional case) or flowing into\n",
      "an unresolved lake or sea. If you know that river should be\n",
      "there, you may need to increase the proximity range (prox)\n",
      "river mouth at (lon,lat) = (48.250000,46.250000) \n",
      "is too far from the ocean and cannot not used.\n",
      "It can be out of the domain (regional case) or flowing into\n",
      "an unresolved lake or sea. If you know that river should be\n",
      "there, you may need to increase the proximity range (prox)\n",
      "river mouth at (lon,lat) = (36.250000,-18.750000) \n",
      "is too far from the ocean and cannot not used.\n",
      "It can be out of the domain (regional case) or flowing into\n",
      "an unresolved lake or sea. If you know that river should be\n",
      "there, you may need to increase the proximity range (prox)\n",
      "river mouth at (lon,lat) = (136.750000,-28.750000) \n",
      "is too far from the ocean and cannot not used.\n",
      "It can be out of the domain (regional case) or flowing into\n",
      "an unresolved lake or sea. If you know that river should be\n",
      "there, you may need to increase the proximity range (prox)\n",
      "river mouth at (lon,lat) = (86.250000,41.250000) \n",
      "is too far from the ocean and cannot not used.\n",
      "It can be out of the domain (regional case) or flowing into\n",
      "an unresolved lake or sea. If you know that river should be\n",
      "there, you may need to increase the proximity range (prox)\n",
      "river mouth at (lon,lat) = (67.750000,24.250000) \n",
      "is too far from the ocean and cannot not used.\n",
      "It can be out of the domain (regional case) or flowing into\n",
      "an unresolved lake or sea. If you know that river should be\n",
      "there, you may need to increase the proximity range (prox)\n"
     ]
    }
   ],
   "source": [
    "river_conc = make_bgc_river_input(river_df, ['testvar'],\n",
    "                                  roms_regional_grid['lon_rho'].values,\n",
    "                                  roms_regional_grid['lat_rho'].values,\n",
    "                                  roms_regional_grid['mask_rho'].values,\n",
    "                                  prox=200.)"
   ]
  },
  {
   "cell_type": "markdown",
   "metadata": {},
   "source": [
    "The obtained xarray dataset contain the concentrations for all selected variables:"
   ]
  },
  {
   "cell_type": "code",
   "execution_count": 11,
   "metadata": {},
   "outputs": [
    {
     "data": {
      "text/plain": [
       "<xarray.Dataset>\n",
       "Dimensions:  (x: 722, y: 362)\n",
       "Coordinates:\n",
       "    lat      (y, x) float64 8.785 8.826 8.866 8.907 ... 53.74 53.77 53.8 53.83\n",
       "    lon      (y, x) float64 275.5 275.6 275.6 275.7 ... 301.1 301.1 301.2 301.3\n",
       "Dimensions without coordinates: x, y\n",
       "Data variables:\n",
       "    testvar  (y, x) float64 0.0 0.0 0.0 0.0 0.0 0.0 ... 0.0 0.0 0.0 0.0 0.0 0.0"
      ]
     },
     "execution_count": 11,
     "metadata": {},
     "output_type": "execute_result"
    }
   ],
   "source": [
    "river_conc"
   ]
  },
  {
   "cell_type": "markdown",
   "metadata": {},
   "source": [
    "Let's make a visual check:"
   ]
  },
  {
   "cell_type": "code",
   "execution_count": 12,
   "metadata": {},
   "outputs": [
    {
     "data": {
      "text/plain": [
       "<cartopy.mpl.feature_artist.FeatureArtist at 0xd1bb13f28>"
      ]
     },
     "execution_count": 12,
     "metadata": {},
     "output_type": "execute_result"
    },
    {
     "data": {
      "image/png": "[encoded data removed]",
      "text/plain": [
       "<Figure size 1152x576 with 2 Axes>"
      ]
     },
     "metadata": {
      "needs_background": "light"
     },
     "output_type": "display_data"
    }
   ],
   "source": [
    "fig = plt.figure(figsize=[16,8])\n",
    "ax = plt.axes(projection=ccrs.PlateCarree())\n",
    "river_conc['testvar'].where(river_conc['testvar'] != 0).plot(ax=ax, x='lon', y='lat', transform=ccrs.PlateCarree())\n",
    "ax.coastlines()"
   ]
  },
  {
   "cell_type": "markdown",
   "metadata": {},
   "source": [
    "We can finally save the end result to a netcdf file:"
   ]
  },
  {
   "cell_type": "code",
   "execution_count": 13,
   "metadata": {},
   "outputs": [],
   "source": [
    "river_conc.to_netcdf('dicrivers_regional.nc')"
   ]
  },
  {
   "cell_type": "markdown",
   "metadata": {},
   "source": [
    "In realistic applications, you can end up putting dozens if not hundreds of rivers, streams,... The *rspread* and *prox* parameters will help you tune the results. The final word is that your critical look at the results is something no computer yet can do, so open your eyes, be thorough and report any bugs you can find and propose improvements on the github page of DICRIVERS. Keep on rockin' !!"
   ]
  }
 ],
 "metadata": {
  "kernelspec": {
   "display_name": "Python3 (gfdl,raf)",
   "language": "python",
   "name": "gfdl"
  },
  "language_info": {
   "codemirror_mode": {
    "name": "ipython",
    "version": 3
   },
   "file_extension": ".py",
   "mimetype": "text/x-python",
   "name": "python",
   "nbconvert_exporter": "python",
   "pygments_lexer": "ipython3",
   "version": "3.7.1"
  }
 },
 "nbformat": 4,
 "nbformat_minor": 2
}
